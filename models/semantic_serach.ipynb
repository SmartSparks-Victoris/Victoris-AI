{
 "cells": [
  {
   "cell_type": "code",
   "execution_count": 27,
   "metadata": {},
   "outputs": [
    {
     "name": "stderr",
     "output_type": "stream",
     "text": [
      "d:\\Programming\\IEEE Victoris\\Smart Sparks\\Victoris-AI\\env1\\Lib\\site-packages\\transformers\\tokenization_utils_base.py:1601: FutureWarning: `clean_up_tokenization_spaces` was not set. It will be set to `True` by default. This behavior will be depracted in transformers v4.45, and will be then set to `False` by default. For more details check this issue: https://github.com/huggingface/transformers/issues/31884\n",
      "  warnings.warn(\n"
     ]
    },
    {
     "name": "stdout",
     "output_type": "stream",
     "text": [
      "Question: Where is the Eiffel Tower located?\n",
      "Results: [{'id': '0', 'score': 0.7442867185246337}, {'id': '4', 'score': 0.20982066127848387}]\n"
     ]
    }
   ],
   "source": [
    "import torch\n",
    "from sentence_transformers import SentenceTransformer\n",
    "import chromadb\n",
    "device = torch.device(\"cuda\" if torch.cuda.is_available() else \"cpu\")\n",
    "\n",
    "model = SentenceTransformer('distiluse-base-multilingual-cased-v2', device=device)\n",
    "client = chromadb.PersistentClient(path=\"./chromadb-docs\")\n",
    "\n",
    "def get_data(id:int ,data: str):\n",
    "    embedding = model.encode(data)\n",
    "    embedding = embedding.tolist()\n",
    "    collection = client.get_or_create_collection(\n",
    "        name=\"embeddings\",\n",
    "        metadata={\"hnsw:space\":\"cosine\"}\n",
    "    )\n",
    "    collection.add(\n",
    "        documents=[data],  # Wrap the single string in a list\n",
    "        embeddings=embedding,  # Wrap the single embedding in a list\n",
    "        ids=[str(id)]  # Wrap the single id in a list\n",
    "    )\n",
    "\n",
    "def get_collection_length():\n",
    "    collection = client.get_collection(name=\"embeddings\")\n",
    "    return collection.count()\n",
    "\n",
    "def query(question: str):\n",
    "    query_embedding = model.encode(question)\n",
    "    collection = client.get_collection(name=\"embeddings\")\n",
    "    results = collection.query(\n",
    "        query_embeddings=query_embedding.tolist(),\n",
    "        n_results=2\n",
    "    )\n",
    "    # Extract IDs and calculate scores\n",
    "    ids = results['ids'][0]\n",
    "    scores = [1 - distance for distance in results['distances'][0]]\n",
    "    \n",
    "    # Combine IDs and scores into a list of dictionaries\n",
    "    result_list = [{'id': id, 'score': score} for id, score in zip(ids, scores)]\n",
    "    \n",
    "    return result_list\n",
    "\n",
    "\n"
   ]
  },
  {
   "cell_type": "code",
   "execution_count": null,
   "metadata": {},
   "outputs": [],
   "source": [
    "test_docs = [\n",
    "    \"The Eiffel Tower is located in Paris.\",\n",
    "    \"The Great Wall of China is visible from space.\",\n",
    "    \"The Mona Lisa is a famous painting by Leonardo da Vinci.\",\n",
    "    \"The Pyramids of Giza are one of the Seven Wonders of the Ancient World.\",\n",
    "    \"The Great Wall of China is the longest wall in the world.\",\n",
    "]\n",
    "\n",
    "test_questions = [\n",
    "    \"Where is the Eiffel Tower located?\",\n",
    "    \"Can you see the Great Wall of China from space?\",\n",
    "    \"Who painted the Mona Lisa?\",\n",
    "    \"What are the Pyramids of Giza?\"\n",
    "]\n",
    "# Add test documents to the collection\n",
    "for i, doc in enumerate(test_docs):\n",
    "    get_data(i, doc)\n",
    "    print(f\"length: {get_collection_length()}\")\n",
    "    print()"
   ]
  },
  {
   "cell_type": "code",
   "execution_count": null,
   "metadata": {},
   "outputs": [],
   "source": [
    "test = test_questions[0]\n",
    "results = query(test)\n",
    "print(f\"Question: {test}\")\n",
    "print(\"Results:\", results)"
   ]
  }
 ],
 "metadata": {
  "kernelspec": {
   "display_name": "Python 3",
   "language": "python",
   "name": "python3"
  },
  "language_info": {
   "codemirror_mode": {
    "name": "ipython",
    "version": 3
   },
   "file_extension": ".py",
   "mimetype": "text/x-python",
   "name": "python",
   "nbconvert_exporter": "python",
   "pygments_lexer": "ipython3",
   "version": "3.11.9"
  }
 },
 "nbformat": 4,
 "nbformat_minor": 2
}
